{
 "nbformat": 4,
 "nbformat_minor": 2,
 "metadata": {
  "language_info": {
   "name": "python",
   "codemirror_mode": {
    "name": "ipython",
    "version": 3
   },
   "version": "3.7.5-final"
  },
  "orig_nbformat": 2,
  "file_extension": ".py",
  "mimetype": "text/x-python",
  "name": "python",
  "npconvert_exporter": "python",
  "pygments_lexer": "ipython3",
  "version": 3,
  "kernelspec": {
   "name": "parkinsons",
   "display_name": "Parkinsons"
  }
 },
 "cells": [
  {
   "cell_type": "code",
   "execution_count": null,
   "metadata": {},
   "outputs": [],
   "source": [
    "import pandas as pd\n",
    "\n",
    "df = pd.read_csv('data/parkinsons.data')\n",
    "df.head()"
   ]
  },
  {
   "cell_type": "code",
   "execution_count": null,
   "metadata": {},
   "outputs": [],
   "source": [
    "# Get features and labels\n",
    "features = df.loc[:, df.columns!='status'].values[:, 1:] #not including name (1:)\n",
    "labels = df.loc[:, 'status'].values "
   ]
  },
  {
   "cell_type": "code",
   "execution_count": null,
   "metadata": {},
   "outputs": [],
   "source": [
    "# Normalizing b/w -1 and 1\n",
    "from sklearn.preprocessing import MinMaxScaler\n",
    "\n",
    "scaler = MinMaxScaler(feature_range=(-1,1))\n",
    "x = scaler.fit_transform(features)\n",
    "y = labels"
   ]
  },
  {
   "cell_type": "code",
   "execution_count": null,
   "metadata": {},
   "outputs": [],
   "source": [
    "from sklearn.model_selection import train_test_split\n",
    "\n",
    "X_train, X_test, y_train, y_test = train_test_split(x, y, train_size=0.75, random_state=7)"
   ]
  },
  {
   "cell_type": "code",
   "execution_count": null,
   "metadata": {},
   "outputs": [],
   "source": [
    "# Using the XGBClassifier\n",
    "from xgboost import XGBClassifier\n",
    "\n",
    "xgb = XGBClassifier()\n",
    "xgb.fit(X_train, y_train)"
   ]
  },
  {
   "cell_type": "code",
   "execution_count": null,
   "metadata": {},
   "outputs": [],
   "source": [
    "# Checking Logistic Regression\n",
    "from sklearn.linear_model import LogisticRegression\n",
    "from sklearn.metrics import accuracy_score\n",
    "\n",
    "X_t, X_val, y_t, y_val = train_test_split(X_train, y_train, train_size=0.7)\n",
    "\n",
    "for c in [0.01, 0.05, 0.1, 0.5, 1]:\n",
    "    lr = LogisticRegression(C=c)\n",
    "    lr.fit(X_t, y_t)\n",
    "    print(\"Accuracy for c=%s is %s\"%(c, accuracy_score(y_val, lr.predict(X_val))))\n",
    "\n",
    "    # Accuracy for c=0.01 is 0.7727272727272727\n",
    "    # Accuracy for c=0.05 is 0.8409090909090909\n",
    "    # Accuracy for c=0.1 is 0.8409090909090909\n",
    "    # Accuracy for c=0.5 is 0.8863636363636364\n",
    "    # Accuracy for c=1 is 0.8636363636363636\n",
    "\n",
    "lr = LogisticRegression(C=1)\n",
    "lr.fit(X_train, y_train)"
   ]
  },
  {
   "cell_type": "code",
   "execution_count": null,
   "metadata": {},
   "outputs": [],
   "source": [
    "print(\"Accuracy Score of XGB is %s\"%(accuracy_score(y_test, xgb.predict(X_test))))\n",
    "print(\"Accuracy Score LogReg with c=%s is %s\"%(1, accuracy_score(y_test, lr.predict(X_test))))\n",
    "# Accuracy Score of XGB is 0.9795918367346939\n",
    "# Accuracy Score LogReg with c=1 is 0.8775510204081632"
   ]
  },
  {
   "cell_type": "code",
   "execution_count": 87,
   "metadata": {},
   "outputs": [],
   "source": [
    "import pickle\n",
    "\n",
    "pickle.dump(xgb, open('xgb.pkl', 'wb'))\n",
    "pickle.dump(lr, open('lr.pkl', 'wb'))"
   ]
  }
 ]
}